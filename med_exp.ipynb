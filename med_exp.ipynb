{
 "cells": [
  {
   "cell_type": "markdown",
   "id": "82b365b2",
   "metadata": {},
   "source": [
    "Install Pandas and relavent python libraries"
   ]
  },
  {
   "cell_type": "code",
   "execution_count": 35,
   "id": "dd32aaa5",
   "metadata": {},
   "outputs": [],
   "source": [
    "import pandas as pd\n",
    "import numpy as np\n",
    "import matplotlib.pyplot as plt\n",
    "from sklearn.linear_model import LinearRegression\n",
    "#pip install sqlalchemy pandas (creates database)\n",
    "from sqlalchemy import create_engine"
   ]
  },
  {
   "cell_type": "code",
   "execution_count": 36,
   "id": "fab866de",
   "metadata": {},
   "outputs": [],
   "source": [
    "df = pd.read_csv('supply_chain.csv')\n"
   ]
  },
  {
   "cell_type": "code",
   "execution_count": 37,
   "id": "d51a2e90",
   "metadata": {},
   "outputs": [
    {
     "data": {
      "text/plain": [
       "10324"
      ]
     },
     "execution_count": 37,
     "metadata": {},
     "output_type": "execute_result"
    }
   ],
   "source": [
    "#create a new database called \n",
    "database = create_engine('sqlite:///supply.db')\n",
    "#connect the content in df to this new database\n",
    "df.to_sql('my_table', con=database, if_exists='replace', index=False)"
   ]
  },
  {
   "cell_type": "code",
   "execution_count": 38,
   "id": "722d58ba",
   "metadata": {},
   "outputs": [
    {
     "name": "stdout",
     "output_type": "stream",
     "text": [
      "    cid                          name    type  notnull dflt_value  pk\n",
      "0     0                            ID  BIGINT        0       None   0\n",
      "1     1                  Project Code    TEXT        0       None   0\n",
      "2     2                          PQ #    TEXT        0       None   0\n",
      "3     3                     PO / SO #    TEXT        0       None   0\n",
      "4     4                      ASN/DN #    TEXT        0       None   0\n",
      "5     5                       Country    TEXT        0       None   0\n",
      "6     6                    Managed By    TEXT        0       None   0\n",
      "7     7                   Fulfill Via    TEXT        0       None   0\n",
      "8     8              Vendor INCO Term    TEXT        0       None   0\n",
      "9     9                 Shipment Mode    TEXT        0       None   0\n",
      "10   10  PQ First Sent to Client Date    TEXT        0       None   0\n",
      "11   11        PO Sent to Vendor Date    TEXT        0       None   0\n",
      "12   12       Scheduled Delivery Date    TEXT        0       None   0\n",
      "13   13      Delivered to Client Date    TEXT        0       None   0\n",
      "14   14        Delivery Recorded Date    TEXT        0       None   0\n",
      "15   15                 Product Group    TEXT        0       None   0\n",
      "16   16            Sub Classification    TEXT        0       None   0\n",
      "17   17                        Vendor    TEXT        0       None   0\n",
      "18   18              Item Description    TEXT        0       None   0\n",
      "19   19            Molecule/Test Type    TEXT        0       None   0\n",
      "20   20                         Brand    TEXT        0       None   0\n",
      "21   21                        Dosage    TEXT        0       None   0\n",
      "22   22                   Dosage Form    TEXT        0       None   0\n",
      "23   23    Unit of Measure (Per Pack)  BIGINT        0       None   0\n",
      "24   24            Line Item Quantity  BIGINT        0       None   0\n",
      "25   25               Line Item Value   FLOAT        0       None   0\n",
      "26   26                    Pack Price   FLOAT        0       None   0\n",
      "27   27                    Unit Price   FLOAT        0       None   0\n",
      "28   28            Manufacturing Site    TEXT        0       None   0\n",
      "29   29        First Line Designation    TEXT        0       None   0\n",
      "30   30            Weight (Kilograms)    TEXT        0       None   0\n",
      "31   31            Freight Cost (USD)    TEXT        0       None   0\n",
      "32   32     Line Item Insurance (USD)   FLOAT        0       None   0\n"
     ]
    }
   ],
   "source": [
    "#pragma is sqlite metadata of the df\n",
    "df = pd.read_sql('PRAGMA table_info(my_table);', con=database)\n",
    "print(df)\n"
   ]
  },
  {
   "cell_type": "markdown",
   "id": "9ca4a4d2",
   "metadata": {},
   "source": [
    "Since the Manufacturign site for these supplies are not standardized, we need to filter and give a source of origin to some sites"
   ]
  },
  {
   "cell_type": "code",
   "execution_count": 43,
   "id": "32639b06",
   "metadata": {},
   "outputs": [
    {
     "name": "stdout",
     "output_type": "stream",
     "text": [
      "               Manufacturing Site\n",
      "0      Ranbaxy Fine Chemicals LTD\n",
      "1       Aurobindo Unit III, India\n",
      "2   ABBVIE GmbH & Co.KG Wiesbaden\n",
      "3   Ranbaxy, Paonta Shahib, India\n",
      "4   MSD South Granville Australia\n",
      "..                            ...\n",
      "83    Mepro Pharm Wadhwan Unit II\n",
      "84  Ranbaxy per Shasun Pharma Ltd\n",
      "85                   MedMira Inc.\n",
      "86      Ranbaxy per Shasun Pharma\n",
      "87     Macleods Daman Plant INDIA\n",
      "\n",
      "[88 rows x 1 columns]\n"
     ]
    }
   ],
   "source": [
    "distinct = pd.read_sql('SELECT DISTINCT \"Manufacturing Site\" FROM my_table;', con=database)\n",
    "print(distinct)"
   ]
  }
 ],
 "metadata": {
  "kernelspec": {
   "display_name": "Python (med_supply_chain)",
   "language": "python",
   "name": "med_supply_chain_venv"
  },
  "language_info": {
   "codemirror_mode": {
    "name": "ipython",
    "version": 3
   },
   "file_extension": ".py",
   "mimetype": "text/x-python",
   "name": "python",
   "nbconvert_exporter": "python",
   "pygments_lexer": "ipython3",
   "version": "3.13.0"
  }
 },
 "nbformat": 4,
 "nbformat_minor": 5
}
