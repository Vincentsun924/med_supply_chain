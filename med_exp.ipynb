{
 "cells": [
  {
   "cell_type": "markdown",
   "id": "82b365b2",
   "metadata": {},
   "source": [
    "Install Pandas and relavent python libraries"
   ]
  },
  {
   "cell_type": "code",
   "execution_count": null,
   "id": "dd32aaa5",
   "metadata": {},
   "outputs": [],
   "source": [
    "#import libraries\n",
    "import pandas as pd\n",
    "import numpy as np\n",
    "import matplotlib.pyplot as plt\n",
    "from sklearn.linear_model import LinearRegression\n",
    "#pip install sqlalchemy pandas (creates database)\n",
    "from sqlalchemy import create_engine"
   ]
  },
  {
   "cell_type": "code",
   "execution_count": 80,
   "id": "fab866de",
   "metadata": {},
   "outputs": [],
   "source": [
    "df = pd.read_csv('supply_chain.csv')\n"
   ]
  },
  {
   "cell_type": "code",
   "execution_count": 81,
   "id": "d51a2e90",
   "metadata": {},
   "outputs": [
    {
     "data": {
      "text/plain": [
       "10324"
      ]
     },
     "execution_count": 81,
     "metadata": {},
     "output_type": "execute_result"
    }
   ],
   "source": [
    "#create a new database called \n",
    "database = create_engine('sqlite:///supply.db')\n",
    "#connect the content in df to this new database\n",
    "df.to_sql('my_table', con=database, if_exists='replace', index=False)"
   ]
  },
  {
   "cell_type": "markdown",
   "id": "1cae277f",
   "metadata": {},
   "source": [
    "# Exploratory data Analysis\n"
   ]
  },
  {
   "cell_type": "code",
   "execution_count": 82,
   "id": "722d58ba",
   "metadata": {},
   "outputs": [],
   "source": [
    "##pragma is sqlite metadata of the df\n",
    "# df = pd.read_sql('PRAGMA table_info(my_table);', con=database)\n",
    "# print(df)\n"
   ]
  },
  {
   "cell_type": "code",
   "execution_count": 83,
   "id": "c2384b32",
   "metadata": {},
   "outputs": [
    {
     "data": {
      "text/plain": [
       "['ID',\n",
       " 'Project Code',\n",
       " 'PQ #',\n",
       " 'PO / SO #',\n",
       " 'ASN/DN #',\n",
       " 'Country',\n",
       " 'Managed By',\n",
       " 'Fulfill Via',\n",
       " 'Vendor INCO Term',\n",
       " 'Shipment Mode',\n",
       " 'PQ First Sent to Client Date',\n",
       " 'PO Sent to Vendor Date',\n",
       " 'Scheduled Delivery Date',\n",
       " 'Delivered to Client Date',\n",
       " 'Delivery Recorded Date',\n",
       " 'Product Group',\n",
       " 'Sub Classification',\n",
       " 'Vendor',\n",
       " 'Item Description',\n",
       " 'Molecule/Test Type',\n",
       " 'Brand',\n",
       " 'Dosage',\n",
       " 'Dosage Form',\n",
       " 'Unit of Measure (Per Pack)',\n",
       " 'Line Item Quantity',\n",
       " 'Line Item Value',\n",
       " 'Pack Price',\n",
       " 'Unit Price',\n",
       " 'Manufacturing Site',\n",
       " 'First Line Designation',\n",
       " 'Weight (Kilograms)',\n",
       " 'Freight Cost (USD)',\n",
       " 'Line Item Insurance (USD)']"
      ]
     },
     "execution_count": 83,
     "metadata": {},
     "output_type": "execute_result"
    }
   ],
   "source": [
    "column_names = df.columns.tolist()\n",
    "column_names\n"
   ]
  },
  {
   "cell_type": "markdown",
   "id": "9ca4a4d2",
   "metadata": {},
   "source": [
    "Since the Manufacturign site for these supplies are not standardized, we need to filter and give a source of origin to some sites"
   ]
  },
  {
   "cell_type": "code",
   "execution_count": 84,
   "id": "32639b06",
   "metadata": {},
   "outputs": [
    {
     "name": "stdout",
     "output_type": "stream",
     "text": [
      "               Manufacturing Site\n",
      "0      Ranbaxy Fine Chemicals LTD\n",
      "1       Aurobindo Unit III, India\n",
      "2   ABBVIE GmbH & Co.KG Wiesbaden\n",
      "3   Ranbaxy, Paonta Shahib, India\n",
      "4   MSD South Granville Australia\n",
      "..                            ...\n",
      "83    Mepro Pharm Wadhwan Unit II\n",
      "84  Ranbaxy per Shasun Pharma Ltd\n",
      "85                   MedMira Inc.\n",
      "86      Ranbaxy per Shasun Pharma\n",
      "87     Macleods Daman Plant INDIA\n",
      "\n",
      "[88 rows x 1 columns]\n"
     ]
    }
   ],
   "source": [
    "distinct = pd.read_sql('SELECT DISTINCT \"Manufacturing Site\" FROM my_table;', con=database)\n",
    "print(distinct)"
   ]
  }
 ],
 "metadata": {
  "kernelspec": {
   "display_name": "Python (med_supply_chain)",
   "language": "python",
   "name": "med_supply_chain_venv"
  },
  "language_info": {
   "codemirror_mode": {
    "name": "ipython",
    "version": 3
   },
   "file_extension": ".py",
   "mimetype": "text/x-python",
   "name": "python",
   "nbconvert_exporter": "python",
   "pygments_lexer": "ipython3",
   "version": "3.13.0"
  }
 },
 "nbformat": 4,
 "nbformat_minor": 5
}
