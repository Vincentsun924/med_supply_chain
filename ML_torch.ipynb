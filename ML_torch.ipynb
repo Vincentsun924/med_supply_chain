{
 "cells": [
  {
   "cell_type": "code",
   "execution_count": null,
   "id": "6953a4d9",
   "metadata": {},
   "outputs": [],
   "source": [
    "#import libraries\n",
    "import pandas as pd\n",
    "import numpy as np\n",
    "import matplotlib.pyplot as plt\n",
    "from sklearn.linear_model import LinearRegression\n",
    "#pip install sqlalchemy pandas (creates database)\n",
    "from sqlalchemy import create_engine\n",
    "import sqlite3\n",
    "import seaborn as sns\n",
    "import torch\n",
    "import torch.nn as nn\n",
    "import torch.nn.functional as F\n",
    "from sklearn.preprocessing import LabelEncoder\n",
    "from sklearn.preprocessing import StandardScaler\n",
    "from sklearn.metrics import r2_score\n",
    "\n"
   ]
  },
  {
   "cell_type": "markdown",
   "id": "02e4640e",
   "metadata": {},
   "source": [
    "Forcast Lead time (Lead time = Scheduled Delivery Date - PO Sent to Vendor Date)\n",
    "Predict insurance price\n",
    "Predict shipment/freight cost\n"
   ]
  },
  {
   "cell_type": "code",
   "execution_count": 129,
   "id": "c81a5076",
   "metadata": {},
   "outputs": [
    {
     "data": {
      "application/vnd.microsoft.datawrangler.viewer.v0+json": {
       "columns": [
        {
         "name": "index",
         "rawType": "object",
         "type": "string"
        },
        {
         "name": "0",
         "rawType": "int64",
         "type": "integer"
        }
       ],
       "ref": "8df70d51-e39f-4710-bbc6-e69ebd874b46",
       "rows": [
        [
         "ID",
         "5964"
        ],
        [
         "Project Code",
         "5964"
        ],
        [
         "PQ #",
         "5964"
        ],
        [
         "PO / SO #",
         "5964"
        ],
        [
         "ASN/DN #",
         "5964"
        ],
        [
         "Country",
         "5964"
        ],
        [
         "Managed By",
         "5964"
        ],
        [
         "Fulfill Via",
         "5964"
        ],
        [
         "Vendor INCO Term",
         "5964"
        ],
        [
         "Shipment Mode",
         "5964"
        ],
        [
         "PQ First Sent to Client Date",
         "5964"
        ],
        [
         "PO Sent to Vendor Date",
         "5964"
        ],
        [
         "Scheduled Delivery Date",
         "5964"
        ],
        [
         "Delivered to Client Date",
         "5964"
        ],
        [
         "Delivery Recorded Date",
         "5964"
        ],
        [
         "Product Group",
         "5964"
        ],
        [
         "Sub Classification",
         "5964"
        ],
        [
         "Vendor",
         "5964"
        ],
        [
         "Item Description",
         "5964"
        ],
        [
         "Molecule/Test Type",
         "5964"
        ],
        [
         "Brand",
         "5964"
        ],
        [
         "Dosage",
         "4632"
        ],
        [
         "Dosage Form",
         "5964"
        ],
        [
         "Unit of Measure (Per Pack)",
         "5964"
        ],
        [
         "Line Item Quantity",
         "5964"
        ],
        [
         "Line Item Value",
         "5964"
        ],
        [
         "Pack Price",
         "5964"
        ],
        [
         "Unit Price",
         "5964"
        ],
        [
         "Manufacturing Site",
         "5964"
        ],
        [
         "First Line Designation",
         "5964"
        ],
        [
         "Weight (Kilograms)",
         "5964"
        ],
        [
         "Freight Cost (USD)",
         "5964"
        ],
        [
         "Line Item Insurance (USD)",
         "5856"
        ],
        [
         "Days Difference",
         "5964"
        ],
        [
         "Price Order",
         "5964"
        ],
        [
         "Shipment Month",
         "5964"
        ]
       ],
       "shape": {
        "columns": 1,
        "rows": 36
       }
      },
      "text/plain": [
       "ID                              5964\n",
       "Project Code                    5964\n",
       "PQ #                            5964\n",
       "PO / SO #                       5964\n",
       "ASN/DN #                        5964\n",
       "Country                         5964\n",
       "Managed By                      5964\n",
       "Fulfill Via                     5964\n",
       "Vendor INCO Term                5964\n",
       "Shipment Mode                   5964\n",
       "PQ First Sent to Client Date    5964\n",
       "PO Sent to Vendor Date          5964\n",
       "Scheduled Delivery Date         5964\n",
       "Delivered to Client Date        5964\n",
       "Delivery Recorded Date          5964\n",
       "Product Group                   5964\n",
       "Sub Classification              5964\n",
       "Vendor                          5964\n",
       "Item Description                5964\n",
       "Molecule/Test Type              5964\n",
       "Brand                           5964\n",
       "Dosage                          4632\n",
       "Dosage Form                     5964\n",
       "Unit of Measure (Per Pack)      5964\n",
       "Line Item Quantity              5964\n",
       "Line Item Value                 5964\n",
       "Pack Price                      5964\n",
       "Unit Price                      5964\n",
       "Manufacturing Site              5964\n",
       "First Line Designation          5964\n",
       "Weight (Kilograms)              5964\n",
       "Freight Cost (USD)              5964\n",
       "Line Item Insurance (USD)       5856\n",
       "Days Difference                 5964\n",
       "Price Order                     5964\n",
       "Shipment Month                  5964\n",
       "dtype: int64"
      ]
     },
     "execution_count": 129,
     "metadata": {},
     "output_type": "execute_result"
    }
   ],
   "source": [
    "#predicting shipping/freight cost \n",
    "\n",
    "df = pd.read_csv('supply_chain_cleaned.csv')\n",
    "\n",
    "#Lets do some preprocessing to get the data ready for ML\n",
    "df['Freight Cost (USD)'] = pd.to_numeric(df['Freight Cost (USD)'], errors='coerce')\n",
    "df['Weight (Kilograms)'] = pd.to_numeric(df['Weight (Kilograms)'], errors='coerce')\n",
    "df = df.dropna(subset=['Weight (Kilograms)', 'Line Item Quantity', 'Shipment Mode', 'Country', 'Freight Cost (USD)', 'Price Order', 'Sub Classification', 'Shipment Month'])\n",
    "\n",
    "df.count()\n",
    "\n",
    "\n"
   ]
  },
  {
   "cell_type": "code",
   "execution_count": 130,
   "id": "08c92dd7",
   "metadata": {},
   "outputs": [],
   "source": [
    "#Encode the categorical variables\n",
    "for col in ['Shipment Mode', 'Country', 'Sub Classification']:\n",
    "    le = LabelEncoder()\n",
    "    df[col] = le.fit_transform(df[col])\n",
    "\n",
    "#define the features and target variable\n",
    "features = ['Weight (Kilograms)', 'Country', 'Shipment Mode', 'Line Item Quantity', 'Line Item Value', 'Sub Classification','Shipment Month']\n",
    "\n",
    "target = 'Freight Cost (USD)'\n",
    "\n",
    "X = df[features].values\n",
    "y = df[target].values\n",
    "\n",
    "#scaling some of the feautures so we standarize the data so larger values don't dominate the model\n",
    "#mean = 0 and std = 1\n",
    "\n",
    "scaler_X = StandardScaler()\n",
    "X_scaled = scaler_X.fit_transform(df[features])\n",
    "\n",
    "scaler_y = StandardScaler()\n",
    "y_scaled = scaler_y.fit_transform(df[target].values.reshape(-1, 1))\n",
    "\n",
    "# Cap extreme freight costs at 99th percentile\n",
    "cap = df[target].quantile(0.95)\n",
    "df[target] = np.clip(df[target], None, cap)\n",
    "\n",
    "#we need to make our class model now\n",
    "\n",
    "class FreightCostModel(nn.Module):\n",
    "    def __init__(self, in_features = 7, h1 =64, h2 = 32, out_features =1):\n",
    "        super().__init__() #instantitates our nn.module\n",
    "        self.fc1 = nn.Linear(in_features, h1) #first layer\n",
    "        self.fc2 = nn.Linear(h1, h2) #second layer\n",
    "        self.out = nn.Linear(h2, out_features) #output layer\n",
    "\n",
    "    def forward(self, x):\n",
    "        x = F.relu(self.fc1(x))\n",
    "        x = F.relu(self.fc2(x))\n",
    "        x = self.out(x)\n",
    "        return x\n",
    "\n",
    "torch.manual_seed(42) #for reproducibility\n",
    "model = FreightCostModel()\n",
    "\n",
    "#train test split\n",
    "from sklearn.model_selection import train_test_split\n",
    "X_train, X_test, y_train, y_test = train_test_split(\n",
    "    #we want 20% of the data for testing, and 80% for training\n",
    "    X_scaled, y_scaled, test_size=0.2, random_state=42\n",
    ")\n",
    "\n",
    "# First split into train/test\n",
    "X_train_full, X_test, y_train_full, y_test = train_test_split(\n",
    "    X_scaled, y_scaled, test_size=0.2, random_state=42\n",
    ")\n",
    "# Then split train into train/validation\n",
    "X_train, X_val, y_train, y_val = train_test_split(\n",
    "    X_train_full, y_train_full, test_size=0.1, random_state=42\n",
    ")\n",
    "\n",
    "# Convert to PyTorch tensors for ML\n",
    "X_train = torch.FloatTensor(X_train)\n",
    "X_test = torch.FloatTensor(X_test)\n",
    "\n",
    "X_val = torch.FloatTensor(X_val)\n",
    "y_val = torch.FloatTensor(y_val)\n",
    "\n",
    "\n",
    "#view changes the dimensions of the tensor, we want to make sure y is at least 2 dimensions so the data is uniformed when we do calculations on it\n",
    "y_train = torch.FloatTensor(y_train)\n",
    "y_test = torch.FloatTensor(y_test)\n",
    "\n",
    "train_losses = []\n",
    "val_losses = []\n",
    "\n"
   ]
  },
  {
   "cell_type": "code",
   "execution_count": 131,
   "id": "4eccc639",
   "metadata": {},
   "outputs": [
    {
     "name": "stdout",
     "output_type": "stream",
     "text": [
      "Epoch 0, Train Loss: 0.8922, Val Loss: 0.6912\n",
      "Epoch 50, Train Loss: 0.6067, Val Loss: 0.5335\n",
      "Epoch 100, Train Loss: 0.5087, Val Loss: 0.4325\n",
      "Epoch 150, Train Loss: 0.4320, Val Loss: 0.3593\n",
      "Epoch 200, Train Loss: 0.3837, Val Loss: 0.3339\n",
      "Epoch 250, Train Loss: 0.3544, Val Loss: 0.3237\n",
      "Epoch 300, Train Loss: 0.3315, Val Loss: 0.3176\n",
      "Epoch 350, Train Loss: 0.3116, Val Loss: 0.3110\n",
      "Epoch 400, Train Loss: 0.2960, Val Loss: 0.3092\n",
      "Epoch 450, Train Loss: 0.2842, Val Loss: 0.3078\n",
      "Epoch 500, Train Loss: 0.2751, Val Loss: 0.3102\n",
      "Epoch 550, Train Loss: 0.2675, Val Loss: 0.3115\n",
      "Epoch 600, Train Loss: 0.2607, Val Loss: 0.3118\n",
      "Epoch 650, Train Loss: 0.2553, Val Loss: 0.3121\n",
      "Epoch 700, Train Loss: 0.2489, Val Loss: 0.3151\n",
      "Epoch 750, Train Loss: 0.2438, Val Loss: 0.3175\n",
      "Epoch 800, Train Loss: 0.2391, Val Loss: 0.3196\n",
      "Epoch 850, Train Loss: 0.2342, Val Loss: 0.3209\n",
      "Epoch 900, Train Loss: 0.2301, Val Loss: 0.3234\n",
      "Epoch 950, Train Loss: 0.2268, Val Loss: 0.3265\n",
      "Epoch 1000, Train Loss: 0.2231, Val Loss: 0.3281\n",
      "Epoch 1050, Train Loss: 0.2196, Val Loss: 0.3302\n",
      "Epoch 1100, Train Loss: 0.2164, Val Loss: 0.3331\n",
      "Epoch 1150, Train Loss: 0.2134, Val Loss: 0.3342\n",
      "Epoch 1200, Train Loss: 0.2100, Val Loss: 0.3388\n",
      "Epoch 1250, Train Loss: 0.2082, Val Loss: 0.3403\n",
      "Epoch 1300, Train Loss: 0.2045, Val Loss: 0.3423\n",
      "Epoch 1350, Train Loss: 0.2020, Val Loss: 0.3424\n",
      "Epoch 1400, Train Loss: 0.2006, Val Loss: 0.3468\n",
      "Epoch 1450, Train Loss: 0.1977, Val Loss: 0.3471\n",
      "Epoch 1500, Train Loss: 0.1961, Val Loss: 0.3485\n",
      "Epoch 1550, Train Loss: 0.1935, Val Loss: 0.3509\n",
      "Epoch 1600, Train Loss: 0.1916, Val Loss: 0.3529\n",
      "Epoch 1650, Train Loss: 0.1902, Val Loss: 0.3549\n",
      "Epoch 1700, Train Loss: 0.1880, Val Loss: 0.3578\n",
      "Epoch 1750, Train Loss: 0.1869, Val Loss: 0.3617\n",
      "Epoch 1800, Train Loss: 0.1848, Val Loss: 0.3619\n",
      "Epoch 1850, Train Loss: 0.1835, Val Loss: 0.3648\n",
      "Epoch 1900, Train Loss: 0.1816, Val Loss: 0.3663\n",
      "Epoch 1950, Train Loss: 0.1801, Val Loss: 0.3661\n"
     ]
    }
   ],
   "source": [
    "#Setting the Criterion of the model, tells us how far the predictions are from the actual values\n",
    "#using mean squared error loss, which is a common loss function for regression problems which this one is\n",
    "criterion = nn.MSELoss()\n",
    "\n",
    "#Choose optimizer\n",
    "optimizer = torch.optim.Adam(model.parameters(), lr=0.001, weight_decay=1e-4)\n",
    "\n",
    "#train our model and figuring out the epochs\n",
    "epochs = 2000\n",
    "\n",
    "#append our losses to a list so we can plot it later\n",
    "losses = []\n",
    "\n",
    "for i in range(epochs):\n",
    "    # TRAINING STEP\n",
    "    model.train()\n",
    "    optimizer.zero_grad()\n",
    "    y_pred = model(X_train)\n",
    "    loss = criterion(y_pred, y_train)\n",
    "    loss.backward()\n",
    "    optimizer.step()\n",
    "    train_losses.append(loss.item())\n",
    "\n",
    "    # VALIDATION STEP\n",
    "    model.eval()\n",
    "    with torch.no_grad():\n",
    "        y_val_pred = model(X_val)\n",
    "        val_loss = criterion(y_val_pred, y_val)\n",
    "        val_losses.append(val_loss.item())\n",
    "\n",
    "    if i % 50 == 0:\n",
    "        print(f\"Epoch {i}, Train Loss: {loss.item():.4f}, Val Loss: {val_loss.item():.4f}\")\n"
   ]
  },
  {
   "cell_type": "code",
   "execution_count": 134,
   "id": "347519f4",
   "metadata": {},
   "outputs": [
    {
     "data": {
      "image/png": "[encoded data removed]",
      "text/plain": [
       "<Figure size 640x480 with 1 Axes>"
      ]
     },
     "metadata": {},
     "output_type": "display_data"
    }
   ],
   "source": [
    "plt.plot(range(epochs), train_losses, label='Train Loss')\n",
    "plt.plot(range(epochs), val_losses, label='Validation Loss')\n",
    "plt.xlabel('Epochs')\n",
    "plt.ylabel('Loss')\n",
    "plt.title('Training vs Validation Loss')\n",
    "plt.legend()\n",
    "plt.show()\n"
   ]
  },
  {
   "cell_type": "code",
   "execution_count": 135,
   "id": "c6ead9ec",
   "metadata": {},
   "outputs": [
    {
     "name": "stdout",
     "output_type": "stream",
     "text": [
      "Epoch 0, Loss: 0.17854928970336914\n",
      "Epoch 50, Loss: 0.17900030314922333\n",
      "Epoch 100, Loss: 0.17811590433120728\n",
      "Epoch 150, Loss: 0.1778448224067688\n",
      "Epoch 200, Loss: 0.17753687500953674\n",
      "Epoch 250, Loss: 0.17719613015651703\n"
     ]
    }
   ],
   "source": [
    "#Setting the Criterion of the model, tells us how far the predictions are from the actual values\n",
    "#using mean squared error loss, which is a common loss function for regression problems which this one is\n",
    "criterion = nn.MSELoss()\n",
    "\n",
    "#Choose optimizer\n",
    "optimizer = torch.optim.Adam(model.parameters(), lr=0.001, weight_decay=1e-4)\n",
    "\n",
    "#train our model and figuring out the epochs\n",
    "epochs = 300\n",
    "\n",
    "#append our losses to a list so we can plot it later\n",
    "losses = []\n",
    "\n",
    "for i in range(epochs):\n",
    "    \n",
    "    \n",
    "    #forward pass, predicts the results, passes the input data through the model\n",
    "    y_pred = model.forward(X_train)\n",
    "    \n",
    "    #calculate loss, high at first, but should decrease as the model learns\n",
    "    loss = criterion(y_pred, y_train)\n",
    "    \n",
    "    \n",
    "    \n",
    "    #append the loss to the list\n",
    "    losses.append(loss.item())\n",
    "    \n",
    "    if i % 50 == 0:\n",
    "        print(f'Epoch {i}, Loss: {loss.item()}')\n",
    "              \n",
    "    \n",
    "\n",
    "    #zero the gradients, clears the old gradients, otherwise they will accumulate\n",
    "    #gradients is a slope telling what direction to adjust the weights and how steeply to adjust them\n",
    "    optimizer.zero_grad()\n",
    "\n",
    "    #backward pass/back propagation, tells the model how to adjust the weights based on the loss \n",
    "    loss.backward()\n",
    "\n",
    "    #update weights, update the model weights based on the computed gradient \n",
    "    optimizer.step()\n"
   ]
  },
  {
   "cell_type": "code",
   "execution_count": 136,
   "id": "07a72f9c",
   "metadata": {},
   "outputs": [
    {
     "data": {
      "image/png": "[encoded data removed]",
      "text/plain": [
       "<Figure size 640x480 with 1 Axes>"
      ]
     },
     "metadata": {},
     "output_type": "display_data"
    }
   ],
   "source": [
    "#graph the loss\n",
    "\n",
    "plt.plot(range(epochs), losses)\n",
    "plt.xlabel('Epochs')\n",
    "plt.ylabel('Loss')\n",
    "plt.title('Loss over epochs')\n",
    "plt.show()"
   ]
  },
  {
   "cell_type": "code",
   "execution_count": 137,
   "id": "0766feff",
   "metadata": {},
   "outputs": [
    {
     "name": "stdout",
     "output_type": "stream",
     "text": [
      "Example 1: Predicted = $5431.28, True = $10942.89\n",
      "Example 2: Predicted = $53157.78, True = $8654.70\n",
      "Example 3: Predicted = $5005.60, True = $2220.86\n",
      "Example 4: Predicted = $-1641.19, True = $584.10\n",
      "Example 5: Predicted = $6306.75, True = $9601.38\n",
      "Example 6: Predicted = $19079.77, True = $17214.74\n",
      "Example 7: Predicted = $4110.04, True = $1746.30\n",
      "Example 8: Predicted = $3393.76, True = $3980.18\n",
      "Example 9: Predicted = $1915.45, True = $4861.14\n",
      "Example 10: Predicted = $12800.61, True = $27804.65\n",
      "\n",
      "Mean Absolute Error (USD): $5981.83\n",
      "Root Mean Squared Error (USD): $14143.82\n",
      "R^2 Score: 0.4537\n"
     ]
    }
   ],
   "source": [
    "with torch.no_grad():\n",
    "    y_test_pred = model(X_test)\n",
    "\n",
    "# Inverse transform to USD\n",
    "y_test_unscaled = scaler_y.inverse_transform(y_test.numpy())\n",
    "y_pred_unscaled = scaler_y.inverse_transform(y_test_pred.numpy())\n",
    "\n",
    "# Print examples\n",
    "for i in range(10):\n",
    "    pred = y_pred_unscaled[i][0]\n",
    "    true = y_test_unscaled[i][0]\n",
    "    print(f\"Example {i+1}: Predicted = ${pred:.2f}, True = ${true:.2f}\")\n",
    "\n",
    "# Compute errors\n",
    "mae = np.mean(np.abs(y_pred_unscaled - y_test_unscaled))\n",
    "rmse = np.sqrt(np.mean((y_pred_unscaled - y_test_unscaled)**2))\n",
    "r2 = r2_score(y_test_unscaled, y_pred_unscaled)\n",
    "\n",
    "print(f\"\\nMean Absolute Error (USD): ${mae:.2f}\")\n",
    "print(f\"Root Mean Squared Error (USD): ${rmse:.2f}\")\n",
    "print(f\"R^2 Score: {r2:.4f}\")\n"
   ]
  }
 ],
 "metadata": {
  "kernelspec": {
   "display_name": "Python (med_supply_chain)",
   "language": "python",
   "name": "med_supply_chain_venv"
  },
  "language_info": {
   "codemirror_mode": {
    "name": "ipython",
    "version": 3
   },
   "file_extension": ".py",
   "mimetype": "text/x-python",
   "name": "python",
   "nbconvert_exporter": "python",
   "pygments_lexer": "ipython3",
   "version": "3.13.0"
  }
 },
 "nbformat": 4,
 "nbformat_minor": 5
}
