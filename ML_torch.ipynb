{
 "cells": [
  {
   "cell_type": "code",
   "execution_count": 34,
   "id": "6953a4d9",
   "metadata": {},
   "outputs": [],
   "source": [
    "#import libraries\n",
    "import pandas as pd\n",
    "import numpy as np\n",
    "import matplotlib.pyplot as plt\n",
    "from sklearn.linear_model import LinearRegression\n",
    "#pip install sqlalchemy pandas (creates database)\n",
    "from sqlalchemy import create_engine\n",
    "import sqlite3\n",
    "import seaborn as sns\n",
    "import torch\n",
    "import torch.nn as nn\n",
    "import torch.nn.functional as F\n",
    "from sklearn.preprocessing import LabelEncoder\n",
    "from sklearn.preprocessing import StandardScaler\n",
    "from sklearn.metrics import r2_score\n",
    "\n"
   ]
  },
  {
   "cell_type": "markdown",
   "id": "02e4640e",
   "metadata": {},
   "source": [
    "Forcast Lead time (Lead time = Scheduled Delivery Date - PO Sent to Vendor Date)\n",
    "Predict insurance price\n",
    "Predict shipment/freight cost\n"
   ]
  },
  {
   "cell_type": "code",
   "execution_count": 35,
   "id": "c81a5076",
   "metadata": {},
   "outputs": [
    {
     "data": {
      "application/vnd.microsoft.datawrangler.viewer.v0+json": {
       "columns": [
        {
         "name": "index",
         "rawType": "object",
         "type": "string"
        },
        {
         "name": "0",
         "rawType": "int64",
         "type": "integer"
        }
       ],
       "ref": "c64160fd-7ce8-4c63-b15a-3ef8b1f1484a",
       "rows": [
        [
         "ID",
         "5964"
        ],
        [
         "Project Code",
         "5964"
        ],
        [
         "PQ #",
         "5964"
        ],
        [
         "PO / SO #",
         "5964"
        ],
        [
         "ASN/DN #",
         "5964"
        ],
        [
         "Country",
         "5964"
        ],
        [
         "Managed By",
         "5964"
        ],
        [
         "Fulfill Via",
         "5964"
        ],
        [
         "Vendor INCO Term",
         "5964"
        ],
        [
         "Shipment Mode",
         "5964"
        ],
        [
         "PQ First Sent to Client Date",
         "5964"
        ],
        [
         "PO Sent to Vendor Date",
         "5964"
        ],
        [
         "Scheduled Delivery Date",
         "5964"
        ],
        [
         "Delivered to Client Date",
         "5964"
        ],
        [
         "Delivery Recorded Date",
         "5964"
        ],
        [
         "Product Group",
         "5964"
        ],
        [
         "Sub Classification",
         "5964"
        ],
        [
         "Vendor",
         "5964"
        ],
        [
         "Item Description",
         "5964"
        ],
        [
         "Molecule/Test Type",
         "5964"
        ],
        [
         "Brand",
         "5964"
        ],
        [
         "Dosage",
         "4632"
        ],
        [
         "Dosage Form",
         "5964"
        ],
        [
         "Unit of Measure (Per Pack)",
         "5964"
        ],
        [
         "Line Item Quantity",
         "5964"
        ],
        [
         "Line Item Value",
         "5964"
        ],
        [
         "Pack Price",
         "5964"
        ],
        [
         "Unit Price",
         "5964"
        ],
        [
         "Manufacturing Site",
         "5964"
        ],
        [
         "First Line Designation",
         "5964"
        ],
        [
         "Weight (Kilograms)",
         "5964"
        ],
        [
         "Freight Cost (USD)",
         "5964"
        ],
        [
         "Line Item Insurance (USD)",
         "5856"
        ],
        [
         "Days Difference",
         "5964"
        ],
        [
         "Price Order",
         "5964"
        ],
        [
         "Shipment Month",
         "5964"
        ]
       ],
       "shape": {
        "columns": 1,
        "rows": 36
       }
      },
      "text/plain": [
       "ID                              5964\n",
       "Project Code                    5964\n",
       "PQ #                            5964\n",
       "PO / SO #                       5964\n",
       "ASN/DN #                        5964\n",
       "Country                         5964\n",
       "Managed By                      5964\n",
       "Fulfill Via                     5964\n",
       "Vendor INCO Term                5964\n",
       "Shipment Mode                   5964\n",
       "PQ First Sent to Client Date    5964\n",
       "PO Sent to Vendor Date          5964\n",
       "Scheduled Delivery Date         5964\n",
       "Delivered to Client Date        5964\n",
       "Delivery Recorded Date          5964\n",
       "Product Group                   5964\n",
       "Sub Classification              5964\n",
       "Vendor                          5964\n",
       "Item Description                5964\n",
       "Molecule/Test Type              5964\n",
       "Brand                           5964\n",
       "Dosage                          4632\n",
       "Dosage Form                     5964\n",
       "Unit of Measure (Per Pack)      5964\n",
       "Line Item Quantity              5964\n",
       "Line Item Value                 5964\n",
       "Pack Price                      5964\n",
       "Unit Price                      5964\n",
       "Manufacturing Site              5964\n",
       "First Line Designation          5964\n",
       "Weight (Kilograms)              5964\n",
       "Freight Cost (USD)              5964\n",
       "Line Item Insurance (USD)       5856\n",
       "Days Difference                 5964\n",
       "Price Order                     5964\n",
       "Shipment Month                  5964\n",
       "dtype: int64"
      ]
     },
     "execution_count": 35,
     "metadata": {},
     "output_type": "execute_result"
    }
   ],
   "source": [
    "#predicting shipping/freight cost \n",
    "\n",
    "df = pd.read_csv('supply_chain_cleaned.csv')\n",
    "\n",
    "#Lets do some preprocessing to get the data ready for ML\n",
    "df['Freight Cost (USD)'] = pd.to_numeric(df['Freight Cost (USD)'], errors='coerce')\n",
    "df['Weight (Kilograms)'] = pd.to_numeric(df['Weight (Kilograms)'], errors='coerce')\n",
    "df = df.dropna(subset=['Weight (Kilograms)', 'Line Item Quantity', 'Shipment Mode', 'Country', 'Freight Cost (USD)', 'Price Order', 'Sub Classification', 'Shipment Month'])\n",
    "\n",
    "df.count()\n",
    "\n",
    "\n"
   ]
  },
  {
   "cell_type": "code",
   "execution_count": 36,
   "id": "2c2f848d",
   "metadata": {},
   "outputs": [
    {
     "name": "stdout",
     "output_type": "stream",
     "text": [
      "PQ #                         -0.124356\n",
      "PO / SO #                    -0.012710\n",
      "Country                       0.043291\n",
      "Fulfill Via                  -0.012358\n",
      "Vendor INCO Term              0.016137\n",
      "Shipment Mode                 0.028003\n",
      "Product Group                 0.082836\n",
      "Sub Classification           -0.138784\n",
      "Vendor                        0.102497\n",
      "Molecule/Test Type           -0.048795\n",
      "Brand                        -0.142557\n",
      "Dosage                        0.065280\n",
      "Dosage Form                   0.190506\n",
      "Unit of Measure (Per Pack)   -0.051395\n",
      "Line Item Quantity            0.390271\n",
      "Line Item Value               0.440861\n",
      "Pack Price                   -0.011493\n",
      "Unit Price                    0.084404\n",
      "Manufacturing Site           -0.001117\n",
      "First Line Designation             NaN\n",
      "Weight (Kilograms)            0.213210\n",
      "Freight Cost (USD)            1.000000\n",
      "Line Item Insurance (USD)     0.401502\n",
      "Days Difference              -0.047791\n",
      "Price Order                   0.297446\n",
      "Shipment Month                0.015251\n",
      "Name: Freight Cost (USD), dtype: float64\n",
      "\n",
      "Top correlations with Freight Cost (USD):\n",
      "Freight Cost (USD)            1.000000\n",
      "Line Item Value               0.440861\n",
      "Line Item Insurance (USD)     0.401502\n",
      "Line Item Quantity            0.390271\n",
      "Price Order                   0.297446\n",
      "Weight (Kilograms)            0.213210\n",
      "Dosage Form                   0.190506\n",
      "Vendor                        0.102497\n",
      "Unit Price                    0.084404\n",
      "Product Group                 0.082836\n",
      "Dosage                        0.065280\n",
      "Country                       0.043291\n",
      "Shipment Mode                 0.028003\n",
      "Vendor INCO Term              0.016137\n",
      "Shipment Month                0.015251\n",
      "Manufacturing Site           -0.001117\n",
      "Pack Price                   -0.011493\n",
      "Fulfill Via                  -0.012358\n",
      "PO / SO #                    -0.012710\n",
      "Days Difference              -0.047791\n",
      "Molecule/Test Type           -0.048795\n",
      "Unit of Measure (Per Pack)   -0.051395\n",
      "PQ #                         -0.124356\n",
      "Sub Classification           -0.138784\n",
      "Brand                        -0.142557\n",
      "First Line Designation             NaN\n",
      "Name: Freight Cost (USD), dtype: float64\n"
     ]
    }
   ],
   "source": [
    "#before we start, lets check for null vor missing values, we can fill them with the median of the column\n",
    "df.fillna(df.median(numeric_only=True), inplace=True)\n",
    "\n",
    "#finding the correlation of each column with the target variable\n",
    "target = 'Freight Cost (USD)'\n",
    "\n",
    "cap = df[target].quantile(0.95)\n",
    "df[target] = np.clip(df[target], None, cap)\n",
    "\n",
    "# Now make sure categorical features are treated as numeric\n",
    "categorical_cols = ['Shipment Mode', 'Country', 'Sub Classification', 'PQ #', 'PO / SO #', 'Fulfill Via',\n",
    "'Vendor INCO Term', 'Product Group', 'Sub Classification', 'Vendor', 'Molecule/Test Type', 'Brand', 'Dosage', 'Dosage Form', 'Manufacturing Site', 'First Line Designation' ]\n",
    "\n",
    "for col in categorical_cols:\n",
    "    le = LabelEncoder()\n",
    "    df[col] = le.fit_transform(df[col])\n",
    "\n",
    "numeric_cols= df.select_dtypes(include='number').columns.tolist()\n",
    "\n",
    "#remove irrelvent columns like ID which is not useful for prediction\n",
    "numeric_cols.remove('ID')\n",
    "\n",
    "# Get correlations with target\n",
    "correlation_with_target = df[numeric_cols].corr()[target].sort_values(ascending=False)\n",
    "\n",
    "print(df[numeric_cols].corr()[target])\n",
    "\n",
    "print(\"\\nTop correlations with Freight Cost (USD):\")\n",
    "print(correlation_with_target)\n"
   ]
  },
  {
   "cell_type": "code",
   "execution_count": 37,
   "id": "08c92dd7",
   "metadata": {},
   "outputs": [],
   "source": [
    "\n",
    "#define the key features and target variable\n",
    "features = ['Weight (Kilograms)', 'Brand', 'Dosage', 'Molecule/Test Type', 'Country', 'Shipment Month', 'Vendor INCO Term', 'Product Group', 'Unit Price', 'Shipment Mode', 'Line Item Quantity', 'Line Item Value', 'Sub Classification','Shipment Month', 'Line Item Insurance (USD)', 'Price Order', 'Dosage Form', 'Vendor', ]\n",
    "\n",
    "target = 'Freight Cost (USD)'\n",
    "\n",
    "X = df[features].values\n",
    "y = df[target].values\n",
    "\n",
    "#scaling some of the feautures so we standarize the data so larger values don't dominate the model\n",
    "#mean = 0 and std = 1\n",
    "\n",
    "scaler_X = StandardScaler()\n",
    "X_scaled = scaler_X.fit_transform(df[features])\n",
    "\n",
    "scaler_y = StandardScaler()\n",
    "y_scaled = scaler_y.fit_transform(df[target].values.reshape(-1, 1))\n",
    "\n",
    "# Cap extreme freight costs at 99th percentile\n",
    "cap = df[target].quantile(0.95)\n",
    "df[target] = np.clip(df[target], None, cap)\n",
    "\n",
    "#we need to make our class model now\n",
    "\n",
    "class FreightCostModel(nn.Module):\n",
    "    def __init__(self, in_features = 18, h1 =64, h2 = 32, out_features =1):\n",
    "        super().__init__() #instantitates our nn.module\n",
    "        self.fc1 = nn.Linear(in_features, h1) #first layer\n",
    "        self.fc2 = nn.Linear(h1, h2) #second layer\n",
    "        self.out = nn.Linear(h2, out_features) #output layer\n",
    "\n",
    "    def forward(self, x):\n",
    "        x = F.relu(self.fc1(x))\n",
    "        x = F.relu(self.fc2(x))\n",
    "        x = self.out(x)\n",
    "        return x\n",
    "\n",
    "torch.manual_seed(42) #for reproducibility\n",
    "model = FreightCostModel()\n",
    "\n",
    "#train test split\n",
    "from sklearn.model_selection import train_test_split\n",
    "X_train, X_test, y_train, y_test = train_test_split(\n",
    "    #we want 20% of the data for testing, and 80% for training\n",
    "    X_scaled, y_scaled, test_size=0.2, random_state=42\n",
    ")\n",
    "\n",
    "# First split into train/test\n",
    "X_train_full, X_test, y_train_full, y_test = train_test_split(\n",
    "    X_scaled, y_scaled, test_size=0.2, random_state=42\n",
    ")\n",
    "# Then split train into train/validation\n",
    "X_train, X_val, y_train, y_val = train_test_split(\n",
    "    X_train_full, y_train_full, test_size=0.1, random_state=42\n",
    ")\n",
    "\n",
    "# Convert to PyTorch tensors for ML\n",
    "X_train = torch.FloatTensor(X_train)\n",
    "X_test = torch.FloatTensor(X_test)\n",
    "\n",
    "X_val = torch.FloatTensor(X_val)\n",
    "y_val = torch.FloatTensor(y_val)\n",
    "\n",
    "\n",
    "#view changes the dimensions of the tensor, we want to make sure y is at least 2 dimensions so the data is uniformed when we do calculations on it\n",
    "y_train = torch.FloatTensor(y_train)\n",
    "y_test = torch.FloatTensor(y_test)\n",
    "\n",
    "train_losses = []\n",
    "val_losses = []\n",
    "\n"
   ]
  },
  {
   "cell_type": "code",
   "execution_count": 38,
   "id": "4eccc639",
   "metadata": {},
   "outputs": [
    {
     "name": "stdout",
     "output_type": "stream",
     "text": [
      "Epoch 0, Train Loss: 0.9972, Val Loss: 0.9516\n",
      "Epoch 50, Train Loss: 0.6101, Val Loss: 0.6624\n",
      "Epoch 100, Train Loss: 0.4630, Val Loss: 0.5170\n",
      "Epoch 150, Train Loss: 0.3849, Val Loss: 0.4546\n",
      "Epoch 200, Train Loss: 0.3314, Val Loss: 0.4146\n",
      "Epoch 250, Train Loss: 0.2952, Val Loss: 0.3949\n",
      "Epoch 300, Train Loss: 0.2703, Val Loss: 0.3873\n",
      "Epoch 350, Train Loss: 0.2522, Val Loss: 0.3822\n",
      "Epoch 400, Train Loss: 0.2396, Val Loss: 0.3774\n",
      "Epoch 450, Train Loss: 0.2293, Val Loss: 0.3746\n",
      "Epoch 500, Train Loss: 0.2201, Val Loss: 0.3735\n",
      "Epoch 550, Train Loss: 0.2125, Val Loss: 0.3734\n",
      "Epoch 600, Train Loss: 0.2057, Val Loss: 0.3726\n",
      "Epoch 650, Train Loss: 0.2001, Val Loss: 0.3723\n",
      "Epoch 700, Train Loss: 0.1954, Val Loss: 0.3718\n",
      "Epoch 750, Train Loss: 0.1910, Val Loss: 0.3726\n",
      "Epoch 800, Train Loss: 0.1875, Val Loss: 0.3727\n",
      "Epoch 850, Train Loss: 0.1839, Val Loss: 0.3747\n",
      "Epoch 900, Train Loss: 0.1809, Val Loss: 0.3770\n",
      "Epoch 950, Train Loss: 0.1776, Val Loss: 0.3786\n",
      "Epoch 1000, Train Loss: 0.1750, Val Loss: 0.3804\n",
      "Epoch 1050, Train Loss: 0.1724, Val Loss: 0.3811\n",
      "Epoch 1100, Train Loss: 0.1699, Val Loss: 0.3823\n",
      "Epoch 1150, Train Loss: 0.1679, Val Loss: 0.3856\n",
      "Epoch 1200, Train Loss: 0.1654, Val Loss: 0.3862\n",
      "Epoch 1250, Train Loss: 0.1637, Val Loss: 0.3879\n",
      "Epoch 1300, Train Loss: 0.1616, Val Loss: 0.3912\n",
      "Epoch 1350, Train Loss: 0.1598, Val Loss: 0.3942\n",
      "Epoch 1400, Train Loss: 0.1581, Val Loss: 0.3957\n",
      "Epoch 1450, Train Loss: 0.1565, Val Loss: 0.3969\n",
      "Epoch 1500, Train Loss: 0.1552, Val Loss: 0.3998\n",
      "Epoch 1550, Train Loss: 0.1535, Val Loss: 0.4001\n",
      "Epoch 1600, Train Loss: 0.1521, Val Loss: 0.4040\n",
      "Epoch 1650, Train Loss: 0.1504, Val Loss: 0.4058\n",
      "Epoch 1700, Train Loss: 0.1492, Val Loss: 0.4086\n",
      "Epoch 1750, Train Loss: 0.1477, Val Loss: 0.4125\n",
      "Epoch 1800, Train Loss: 0.1467, Val Loss: 0.4159\n",
      "Epoch 1850, Train Loss: 0.1458, Val Loss: 0.4187\n",
      "Epoch 1900, Train Loss: 0.1445, Val Loss: 0.4199\n",
      "Epoch 1950, Train Loss: 0.1430, Val Loss: 0.4237\n"
     ]
    }
   ],
   "source": [
    "#Setting the Criterion of the model, tells us how far the predictions are from the actual values\n",
    "#using mean squared error loss, which is a common loss function for regression problems which this one is\n",
    "criterion = nn.MSELoss()\n",
    "\n",
    "#Choose optimizer\n",
    "optimizer = torch.optim.Adam(model.parameters(), lr=0.001, weight_decay=1e-4)\n",
    "\n",
    "#train our model and figuring out the epochs\n",
    "epochs = 2000\n",
    "\n",
    "#append our losses to a list so we can plot it later\n",
    "losses = []\n",
    "\n",
    "for i in range(epochs):\n",
    "    # TRAINING STEP\n",
    "    model.train()\n",
    "    optimizer.zero_grad()\n",
    "    y_pred = model(X_train)\n",
    "    loss = criterion(y_pred, y_train)\n",
    "    loss.backward()\n",
    "    optimizer.step()\n",
    "    train_losses.append(loss.item())\n",
    "\n",
    "    # VALIDATION STEP\n",
    "    model.eval()\n",
    "    with torch.no_grad():\n",
    "        y_val_pred = model(X_val)\n",
    "        val_loss = criterion(y_val_pred, y_val)\n",
    "        val_losses.append(val_loss.item())\n",
    "\n",
    "    if i % 50 == 0:\n",
    "        print(f\"Epoch {i}, Train Loss: {loss.item():.4f}, Val Loss: {val_loss.item():.4f}\")\n"
   ]
  },
  {
   "cell_type": "code",
   "execution_count": 39,
   "id": "347519f4",
   "metadata": {},
   "outputs": [
    {
     "data": {
      "image/png": "[encoded data removed]",
      "text/plain": [
       "<Figure size 640x480 with 1 Axes>"
      ]
     },
     "metadata": {},
     "output_type": "display_data"
    }
   ],
   "source": [
    "plt.plot(range(epochs), train_losses, label='Train Loss')\n",
    "plt.plot(range(epochs), val_losses, label='Validation Loss')\n",
    "plt.xlabel('Epochs')\n",
    "plt.ylabel('Loss')\n",
    "plt.title('Training vs Validation Loss')\n",
    "plt.legend()\n",
    "plt.show()\n"
   ]
  },
  {
   "cell_type": "code",
   "execution_count": 40,
   "id": "c6ead9ec",
   "metadata": {},
   "outputs": [
    {
     "name": "stdout",
     "output_type": "stream",
     "text": [
      "Epoch 0, Loss: 0.14238472282886505\n",
      "Epoch 50, Loss: 0.14220692217350006\n",
      "Epoch 100, Loss: 0.1417132467031479\n",
      "Epoch 150, Loss: 0.14151136577129364\n",
      "Epoch 200, Loss: 0.14128635823726654\n",
      "Epoch 250, Loss: 0.14103253185749054\n",
      "Epoch 300, Loss: 0.14075186848640442\n",
      "Epoch 350, Loss: 0.14044928550720215\n",
      "Epoch 400, Loss: 0.14013220369815826\n",
      "Epoch 450, Loss: 0.1397915482521057\n",
      "Epoch 500, Loss: 0.13942775130271912\n",
      "Epoch 550, Loss: 0.13903221487998962\n"
     ]
    }
   ],
   "source": [
    "#Setting the Criterion of the model, tells us how far the predictions are from the actual values\n",
    "#using mean squared error loss, which is a common loss function for regression problems which this one is\n",
    "criterion = nn.MSELoss()\n",
    "\n",
    "#Choose optimizer\n",
    "optimizer = torch.optim.Adam(model.parameters(), lr=0.001, weight_decay=1e-4)\n",
    "\n",
    "#train our model and figuring out the epochs, the optimal is when the loss starts to rise or plateau, rising loss indicates overfitting\n",
    "epochs = 600\n",
    "\n",
    "#append our losses to a list so we can plot it later\n",
    "losses = []\n",
    "\n",
    "for i in range(epochs):\n",
    "    \n",
    "    \n",
    "    #forward pass, predicts the results, passes the input data through the model\n",
    "    y_pred = model.forward(X_train)\n",
    "    \n",
    "    #calculate loss, high at first, but should decrease as the model learns\n",
    "    loss = criterion(y_pred, y_train)\n",
    "    \n",
    "    \n",
    "    \n",
    "    #append the loss to the list\n",
    "    losses.append(loss.item())\n",
    "    \n",
    "    if i % 50 == 0:\n",
    "        print(f'Epoch {i}, Loss: {loss.item()}')\n",
    "              \n",
    "    \n",
    "\n",
    "    #zero the gradients, clears the old gradients, otherwise they will accumulate\n",
    "    #gradients is a slope telling what direction to adjust the weights and how steeply to adjust them\n",
    "    optimizer.zero_grad()\n",
    "\n",
    "    #backward pass/back propagation, tells the model how to adjust the weights based on the loss \n",
    "    loss.backward()\n",
    "\n",
    "    #update weights, update the model weights based on the computed gradient \n",
    "    optimizer.step()\n"
   ]
  },
  {
   "cell_type": "code",
   "execution_count": 41,
   "id": "07a72f9c",
   "metadata": {},
   "outputs": [
    {
     "data": {
      "image/png": "[encoded data removed]",
      "text/plain": [
       "<Figure size 640x480 with 1 Axes>"
      ]
     },
     "metadata": {},
     "output_type": "display_data"
    }
   ],
   "source": [
    "#graph the loss\n",
    "\n",
    "plt.plot(range(epochs), losses)\n",
    "plt.xlabel('Epochs')\n",
    "plt.ylabel('Loss')\n",
    "plt.title('Loss over epochs')\n",
    "plt.show()"
   ]
  },
  {
   "cell_type": "code",
   "execution_count": 42,
   "id": "0766feff",
   "metadata": {},
   "outputs": [
    {
     "name": "stdout",
     "output_type": "stream",
     "text": [
      "Example 1: Predicted = $11531.94, True = $10942.89\n",
      "Example 2: Predicted = $14320.26, True = $8654.70\n",
      "Example 3: Predicted = $5363.47, True = $2220.86\n",
      "Example 4: Predicted = $423.75, True = $584.10\n",
      "Example 5: Predicted = $10971.37, True = $9601.38\n",
      "Example 6: Predicted = $9945.02, True = $17214.74\n",
      "Example 7: Predicted = $5183.23, True = $1746.30\n",
      "Example 8: Predicted = $4565.11, True = $3980.18\n",
      "Example 9: Predicted = $2727.87, True = $4861.14\n",
      "Example 10: Predicted = $14891.60, True = $27804.65\n",
      "\n",
      "Mean Absolute Error (USD): $4090.71\n",
      "Root Mean Squared Error (USD): $6273.03\n",
      "R^2 Score: 0.6214\n"
     ]
    }
   ],
   "source": [
    "with torch.no_grad():\n",
    "    y_test_pred = model(X_test)\n",
    "\n",
    "# Inverse transform to USD\n",
    "y_test_unscaled = scaler_y.inverse_transform(y_test.numpy())\n",
    "y_pred_unscaled = scaler_y.inverse_transform(y_test_pred.numpy())\n",
    "\n",
    "# Print examples\n",
    "for i in range(10):\n",
    "    pred = y_pred_unscaled[i][0]\n",
    "    true = y_test_unscaled[i][0]\n",
    "    print(f\"Example {i+1}: Predicted = ${pred:.2f}, True = ${true:.2f}\")\n",
    "\n",
    "# Compute errors\n",
    "mae = np.mean(np.abs(y_pred_unscaled - y_test_unscaled))\n",
    "rmse = np.sqrt(np.mean((y_pred_unscaled - y_test_unscaled)**2))\n",
    "r2 = r2_score(y_test_unscaled, y_pred_unscaled)\n",
    "\n",
    "print(f\"\\nMean Absolute Error (USD): ${mae:.2f}\")\n",
    "print(f\"Root Mean Squared Error (USD): ${rmse:.2f}\")\n",
    "print(f\"R^2 Score: {r2:.4f}\")\n"
   ]
  }
 ],
 "metadata": {
  "kernelspec": {
   "display_name": "Python (med_supply_chain)",
   "language": "python",
   "name": "med_supply_chain_venv"
  },
  "language_info": {
   "codemirror_mode": {
    "name": "ipython",
    "version": 3
   },
   "file_extension": ".py",
   "mimetype": "text/x-python",
   "name": "python",
   "nbconvert_exporter": "python",
   "pygments_lexer": "ipython3",
   "version": "3.13.0"
  }
 },
 "nbformat": 4,
 "nbformat_minor": 5
}
